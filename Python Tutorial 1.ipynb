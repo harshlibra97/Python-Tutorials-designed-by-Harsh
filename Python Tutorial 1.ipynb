{
 "cells": [
  {
   "cell_type": "code",
   "execution_count": 4,
   "metadata": {},
   "outputs": [
    {
     "name": "stdout",
     "output_type": "stream",
     "text": [
      "John Wick\n"
     ]
    }
   ],
   "source": [
    "#LET US LEARN ABOUT STRINGS,LISTS,SORTING AND DICTS IN THIS TUTORIAL.\n",
    "\n",
    "#1:STRINGS.\n",
    "\n",
    "#String is used to express character in single or double qoutes.\n",
    "\n",
    "full_name= \"John Wick\"\n",
    "print(full_name)"
   ]
  },
  {
   "cell_type": "code",
   "execution_count": 5,
   "metadata": {},
   "outputs": [
    {
     "name": "stdout",
     "output_type": "stream",
     "text": [
      "11\n"
     ]
    }
   ],
   "source": [
    "#Functions\n",
    "#1- len()\n",
    "#Let us take an example of a minimum number of character input required for a password.For that we need to find out the specific length of the input.\n",
    "#We can use this function there!\n",
    "\n",
    "password=\"johnwick123\"\n",
    "print(len(password))"
   ]
  },
  {
   "cell_type": "code",
   "execution_count": 13,
   "metadata": {},
   "outputs": [
    {
     "name": "stdout",
     "output_type": "stream",
     "text": [
      "j\n"
     ]
    }
   ],
   "source": [
    "#2- x[number of position of the character]\n",
    "#let us take an example of requirement of first character to be in Upper Case.For that we can use this function to get the first character.\n",
    "\n",
    "passcode=\"johnwickisnice\"\n",
    "print(passcode[0])"
   ]
  },
  {
   "cell_type": "code",
   "execution_count": 15,
   "metadata": {},
   "outputs": [
    {
     "name": "stdout",
     "output_type": "stream",
     "text": [
      "3\n"
     ]
    }
   ],
   "source": [
    "#We can also use different numbers to get different postions of the character to get the value.For example x[2],x[-1]...\n",
    "#if we use x[-1] we will get the last character of the string.\n",
    "\n",
    "password=\"johnwick213\"\n",
    "print(password[-1])"
   ]
  },
  {
   "cell_type": "code",
   "execution_count": 16,
   "metadata": {},
   "outputs": [
    {
     "name": "stdout",
     "output_type": "stream",
     "text": [
      "joh\n"
     ]
    }
   ],
   "source": [
    "#if we use x[0:3] we will get all first three characters.And if we use x[3:] we will get all characters after 3.\n",
    "\n",
    "full_name=\"john wick\"\n",
    "print(full_name[0:3])"
   ]
  },
  {
   "cell_type": "code",
   "execution_count": 18,
   "metadata": {},
   "outputs": [
    {
     "name": "stdout",
     "output_type": "stream",
     "text": [
      "John Wick\n"
     ]
    }
   ],
   "source": [
    "#3- Formatted Strings- name=f\"{first} {last}\"\n",
    "\n",
    "#This function is used to format the string in a specific way.\n",
    "#For example when we fill a google form or a Rutgers form ,sometimes we have to fill the first name and last name in different boxes.\n",
    "#This function is used to merge these characters to form a single string in the required format.\n",
    "#Let us take an example of a first name and last name.\n",
    "\n",
    "first_name=\"John\"\n",
    "last_name=\"Wick\"\n",
    "full_name=f\"{first_name} {last_name}\"\n",
    "print(full_name)"
   ]
  },
  {
   "cell_type": "code",
   "execution_count": 20,
   "metadata": {},
   "outputs": [
    {
     "name": "stdout",
     "output_type": "stream",
     "text": [
      "You're Beautiful'\n"
     ]
    }
   ],
   "source": [
    "#4- Escape Sequences-\\”, \\’ ,\\\\, \\n\n",
    "#This function can be used when we want to use special characters between the string.If you don't use the backslash the string will end at the qoute and wont read the string further.\n",
    "#For example if you want to print \"You're Beautiful\"-\n",
    "\n",
    "praise=\"You\\'re Beautiful\"\n",
    "print(praise)"
   ]
  },
  {
   "cell_type": "code",
   "execution_count": 21,
   "metadata": {},
   "outputs": [
    {
     "name": "stdout",
     "output_type": "stream",
     "text": [
      "John \n",
      "Wick\n"
     ]
    }
   ],
   "source": [
    "#We can use \\n to go to the next line.\n",
    "#For example \n",
    "\n",
    "f_name=\"John \\nWick\"\n",
    "print(f_name)"
   ]
  },
  {
   "cell_type": "code",
   "execution_count": 24,
   "metadata": {},
   "outputs": [
    {
     "name": "stdout",
     "output_type": "stream",
     "text": [
      "johnwick69@gmail.com\n"
     ]
    }
   ],
   "source": [
    "#5- String Methods-\n",
    "#x.upper(),x.lower(),x.title(),x.strip(),x.find(“p”),x.replace(“a”, “b”),“a” in x\n",
    "\n",
    "#For example when we enter the Email Id ,we use the upper case and enter in the directory.But the Email Id is usually saved in the lower case for the use.\n",
    "#So we can use this function to make the upper case to lower case.\n",
    "\n",
    "email_id=\"JOHNWICK69@GMAIL.COM\"\n",
    "print(email_id.lower())"
   ]
  },
  {
   "cell_type": "code",
   "execution_count": 27,
   "metadata": {},
   "outputs": [
    {
     "name": "stdout",
     "output_type": "stream",
     "text": [
      "Harry Jones\n"
     ]
    }
   ],
   "source": [
    "#Sometimes we need to convert the first character of the string in upper case.For that we can use the function x.title().\n",
    "\n",
    "full_name=\"harry jones\"\n",
    "print(full_name.title())"
   ]
  },
  {
   "cell_type": "code",
   "execution_count": 28,
   "metadata": {},
   "outputs": [
    {
     "name": "stdout",
     "output_type": "stream",
     "text": [
      "Harry Jones\n"
     ]
    }
   ],
   "source": [
    "#Sometimes when we copy the email Id and paste it,we can get a blank space at the start.When we store it , we can remove the space by using the function x.strip()\n",
    "#we can use x.rstrip to remove the right spcaes and x.lstrip to remove the left spaces.\n",
    "user_name=\"  Harry Jones\"\n",
    "print(user_name.strip())"
   ]
  },
  {
   "cell_type": "code",
   "execution_count": 30,
   "metadata": {},
   "outputs": [
    {
     "name": "stdout",
     "output_type": "stream",
     "text": [
      "3\n"
     ]
    }
   ],
   "source": [
    "#In some cases when we have to find the index of a specific character to make some changes.\n",
    "#In such cases we can use the function to find index of characters- x.find(“p”)\n",
    "\n",
    "user_name=\"johnwick12\"\n",
    "print(user_name.find(\"n\"))"
   ]
  },
  {
   "cell_type": "code",
   "execution_count": 33,
   "metadata": {},
   "outputs": [
    {
     "name": "stdout",
     "output_type": "stream",
     "text": [
      "Hone Holy\n"
     ]
    }
   ],
   "source": [
    "#In some cases we have to replace the characters or the whole string. In such cases we can use the function x.replace(“a”, “b”)\n",
    "\n",
    "full_name=\"Jone Joly\"\n",
    "print(full_name.replace(\"J\",\"H\"))"
   ]
  },
  {
   "cell_type": "code",
   "execution_count": 37,
   "metadata": {},
   "outputs": [
    {
     "name": "stdout",
     "output_type": "stream",
     "text": [
      "False\n"
     ]
    }
   ],
   "source": [
    "#Sometimes we have contraints in password entry that we cannot use the characters from the username.\n",
    "#in such cases we can  find the username characters and approve or reject the password entry by using the function “a” in x\n",
    "\n",
    "#in such case we use \"a\" is not in x, if it gives TRUE! the password entry is correct.\n",
    "#example-\n",
    "\n",
    "username=\"johnwick\"\n",
    "print(\"john\" not in username) #this means that john is in the username and cannot be made a password."
   ]
  },
  {
   "cell_type": "code",
   "execution_count": 39,
   "metadata": {},
   "outputs": [
    {
     "name": "stdout",
     "output_type": "stream",
     "text": [
      "['shampoo', 'soap', 'napkin', 'tomato', 'potatoe']\n"
     ]
    }
   ],
   "source": [
    "#2- LISTS\n",
    "\n",
    "#We use 2 brackets to define a list.In this list we can list of any type,strings,numbers,etc.\n",
    "\n",
    "#Let us take an example of a shopping list.\n",
    "\n",
    "list=[\"shampoo\",\"soap\",\"napkin\",\"tomato\",\"potatoe\"]\n",
    "print(list)"
   ]
  },
  {
   "cell_type": "code",
   "execution_count": 50,
   "metadata": {},
   "outputs": [
    {
     "name": "stdout",
     "output_type": "stream",
     "text": [
      "['soap', 'soap', 'soap', 'soap', 'soap']\n"
     ]
    }
   ],
   "source": [
    "#if we want to print a list multiple times, we can simply put an *\n",
    "\n",
    "soaps = [\"soap\"] * 5\n",
    "print(soaps)"
   ]
  },
  {
   "cell_type": "code",
   "execution_count": 51,
   "metadata": {},
   "outputs": [
    {
     "name": "stdout",
     "output_type": "stream",
     "text": [
      "['soap', 'soap', 'soap', 'soap', 'soap', 'shampoo', 'soap', 'napkin', 'tomato', 'potatoe']\n"
     ]
    }
   ],
   "source": [
    "#if we want to combine two lists.\n",
    "\n",
    "combined= soaps+list\n",
    "print(combined)"
   ]
  },
  {
   "cell_type": "code",
   "execution_count": 62,
   "metadata": {},
   "outputs": [
    {
     "name": "stdout",
     "output_type": "stream",
     "text": [
      "soap\n"
     ]
    }
   ],
   "source": [
    "# Accessing items from a list.\n",
    "#for example.\n",
    "\n",
    "letters = [\"soap\", \"shampoo\", \"paper\", \"salt\"]\n",
    "print(letters[0])\n"
   ]
  },
  {
   "cell_type": "code",
   "execution_count": 63,
   "metadata": {},
   "outputs": [
    {
     "name": "stdout",
     "output_type": "stream",
     "text": [
      "salt\n"
     ]
    }
   ],
   "source": [
    "#if you want to print the last listed item,you can use-\n",
    "\n",
    "print(letters[-1])"
   ]
  },
  {
   "cell_type": "code",
   "execution_count": 64,
   "metadata": {},
   "outputs": [
    {
     "name": "stdout",
     "output_type": "stream",
     "text": [
      "['soap', 'shampoo', 'paper']\n"
     ]
    }
   ],
   "source": [
    "#if you want to print the first 3 letters use [0:3]\n",
    "\n",
    "print(letters[0:3])"
   ]
  },
  {
   "cell_type": "code",
   "execution_count": 65,
   "metadata": {},
   "outputs": [
    {
     "name": "stdout",
     "output_type": "stream",
     "text": [
      "['salt']\n"
     ]
    }
   ],
   "source": [
    "#if you want only the remaining end of the list after 3, you can use-\n",
    "\n",
    "print(letters[3:])"
   ]
  },
  {
   "cell_type": "code",
   "execution_count": 66,
   "metadata": {},
   "outputs": [
    {
     "name": "stdout",
     "output_type": "stream",
     "text": [
      "['soap', 'shampoo', 'paper', 'salt']\n"
     ]
    }
   ],
   "source": [
    "#if you want to print all,use-\n",
    "\n",
    "print(letters[:])"
   ]
  },
  {
   "cell_type": "code",
   "execution_count": 72,
   "metadata": {},
   "outputs": [
    {
     "name": "stdout",
     "output_type": "stream",
     "text": [
      "['salt', 'paper', 'shampoo', 'soap']\n"
     ]
    }
   ],
   "source": [
    "#if you want to reverse the list you can-\n",
    "\n",
    "print(letters[::-1])"
   ]
  },
  {
   "cell_type": "code",
   "execution_count": 73,
   "metadata": {},
   "outputs": [
    {
     "name": "stdout",
     "output_type": "stream",
     "text": [
      "['tv', 'fridge', 'mobile']\n"
     ]
    }
   ],
   "source": [
    "# Unpacking -first, second, *other = letters \n",
    "#we can use this when we want to separate the items according to the category.\n",
    "\n",
    "listing=[\"rice\",\"salt\",\"sugar\",\"pepper\",\"tv\",\"fridge\",\"mobile\"]\n",
    "first,second,third,fourth, *other=listing\n",
    "print(other)\n",
    " "
   ]
  },
  {
   "cell_type": "code",
   "execution_count": 76,
   "metadata": {},
   "outputs": [
    {
     "name": "stdout",
     "output_type": "stream",
     "text": [
      "['rice', 'salt', 'sugar', 'pepper', 'tv', 'fridge', 'mobile', 'AC']\n"
     ]
    }
   ],
   "source": [
    "# Adding items letters.append(\"e\"),name.insert(number of index,\"char\")\n",
    "\n",
    "#if you want to add an item to the list, you can use letters.append(\"x\")\n",
    "#example-\n",
    "\n",
    "listing=[\"rice\",\"salt\",\"sugar\",\"pepper\",\"tv\",\"fridge\",\"mobile\"]\n",
    "listing.append(\"AC\")\n",
    "print(listing)\n",
    " "
   ]
  },
  {
   "cell_type": "code",
   "execution_count": 78,
   "metadata": {},
   "outputs": [
    {
     "name": "stdout",
     "output_type": "stream",
     "text": [
      "['CAR', 'rice', 'salt', 'sugar', 'pepper', 'tv', 'fridge', 'mobile']\n"
     ]
    }
   ],
   "source": [
    "#we can also add an item to a specific position by using name.insert(number of index,\"char\")\n",
    "\n",
    "listing=[\"rice\",\"salt\",\"sugar\",\"pepper\",\"tv\",\"fridge\",\"mobile\"]\n",
    "listing.insert(0,\"CAR\")\n",
    "print(listing)"
   ]
  },
  {
   "cell_type": "code",
   "execution_count": 83,
   "metadata": {},
   "outputs": [
    {
     "name": "stdout",
     "output_type": "stream",
     "text": [
      "['rice', 'salt', 'sugar', 'pepper', 'tv', 'fridge']\n"
     ]
    }
   ],
   "source": [
    "# Removing items - letters.pop(),letters.pop(0),letters.remove(\"X\"),del letters[0:X]\n",
    "\n",
    "listing=[\"rice\",\"salt\",\"sugar\",\"pepper\",\"tv\",\"fridge\",\"mobile\"]\n",
    "listing.pop() #this removes the last item.\n",
    "print(listing)"
   ]
  },
  {
   "cell_type": "code",
   "execution_count": 84,
   "metadata": {},
   "outputs": [
    {
     "name": "stdout",
     "output_type": "stream",
     "text": [
      "['salt', 'sugar', 'pepper', 'tv', 'fridge']\n"
     ]
    }
   ],
   "source": [
    "listing.pop(0) #this removes the mentioned index item.\n",
    "print(listing)"
   ]
  },
  {
   "cell_type": "code",
   "execution_count": 87,
   "metadata": {},
   "outputs": [
    {
     "name": "stdout",
     "output_type": "stream",
     "text": [
      "['salt', 'pepper', 'tv', 'fridge']\n"
     ]
    }
   ],
   "source": [
    "listing.remove(\"sugar\") #this removes the mentioned item.\n",
    "print(listing)"
   ]
  },
  {
   "cell_type": "code",
   "execution_count": 88,
   "metadata": {},
   "outputs": [
    {
     "name": "stdout",
     "output_type": "stream",
     "text": [
      "['fridge']\n"
     ]
    }
   ],
   "source": [
    "#it becomes difficult to remove one item by using pop() function.\n",
    "#to make the work more easy ,we can remove more items by using the function - del letters[0:X]\n",
    "\n",
    "del listing[0:3]\n",
    "print(listing)\n"
   ]
  },
  {
   "cell_type": "code",
   "execution_count": 90,
   "metadata": {},
   "outputs": [
    {
     "name": "stdout",
     "output_type": "stream",
     "text": [
      "5\n"
     ]
    }
   ],
   "source": [
    "# Finding items-This is used to find the index of the letter in the list using- letters.index(\"X\")\n",
    "\n",
    "listing=[\"rice\",\"salt\",\"sugar\",\"pepper\",\"tv\",\"fridge\",\"mobile\"]\n",
    "print(listing.index(\"fridge\"))\n"
   ]
  },
  {
   "cell_type": "code",
   "execution_count": 93,
   "metadata": {},
   "outputs": [
    {
     "name": "stdout",
     "output_type": "stream",
     "text": [
      "[6, 9, 12, 31, 43, 69]\n"
     ]
    }
   ],
   "source": [
    "#3.SORTING - numbers.sort()\n",
    "\n",
    "#Sorting is a function in which the list of items in the list are sorted according to the priorities of the user.\n",
    "#for example, for ascending sort-\n",
    "\n",
    "numbers=[69,43,12,6,9,31]\n",
    "numbers.sort()\n",
    "print(numbers)"
   ]
  },
  {
   "cell_type": "code",
   "execution_count": 95,
   "metadata": {},
   "outputs": [
    {
     "name": "stdout",
     "output_type": "stream",
     "text": [
      "[69, 43, 31, 12, 9, 6]\n"
     ]
    }
   ],
   "source": [
    "#if you want to sort the numbers in the descending order ,use- name.reverse()\n",
    "\n",
    "numbers.sort(reverse=True)\n",
    "print(numbers)\n"
   ]
  },
  {
   "cell_type": "code",
   "execution_count": 108,
   "metadata": {},
   "outputs": [
    {
     "name": "stdout",
     "output_type": "stream",
     "text": [
      "['IT', 'Math']\n"
     ]
    }
   ],
   "source": [
    "#4-DICTIONARIES\n",
    "\n",
    "#Dictionaries allow us to work with key:value pair where key is the word and definition of that word is value.\n",
    "#we use curly braces to start dictionary.- {}\n",
    "\n",
    "#For example -Let us take a dictionary of a Student.\n",
    "\n",
    "student={'name': 'Charlie','age':21,'courses':['IT','Math']}\n",
    "print(student[\"courses\"])\n"
   ]
  },
  {
   "cell_type": "code",
   "execution_count": 116,
   "metadata": {},
   "outputs": [
    {
     "name": "stdout",
     "output_type": "stream",
     "text": [
      "None\n"
     ]
    }
   ],
   "source": [
    "#we can use the - print(student.get[\"courses\"]) to void error when we ask for a key that doesn't exists!\n",
    "\n",
    "print(student.get(\"cell_number\"))"
   ]
  },
  {
   "cell_type": "code",
   "execution_count": 126,
   "metadata": {},
   "outputs": [
    {
     "name": "stdout",
     "output_type": "stream",
     "text": [
      "{'name': 'Charlie', 'age': 23, 'courses': ['IT', 'Math'], 'number': '969-6969'}\n"
     ]
    }
   ],
   "source": [
    "#suppose the number and the age of the student changes ,then we can update the dictionary by using- student.update(\"key\":value)\n",
    "\n",
    "student.update({'number':'969-6969','age':23})\n",
    "print(student)"
   ]
  },
  {
   "cell_type": "code",
   "execution_count": 127,
   "metadata": {},
   "outputs": [
    {
     "name": "stdout",
     "output_type": "stream",
     "text": [
      "{'name': 'Charlie', 'courses': ['IT', 'Math'], 'number': '969-6969'}\n"
     ]
    }
   ],
   "source": [
    "#if we want to delete a key from the dictionary,then we cn use the function- del student[\"age\"]\n",
    "\n",
    "del student[\"age\"]\n",
    "print(student)"
   ]
  },
  {
   "cell_type": "code",
   "execution_count": 128,
   "metadata": {},
   "outputs": [
    {
     "name": "stdout",
     "output_type": "stream",
     "text": [
      "3\n"
     ]
    }
   ],
   "source": [
    "#if we want to see how many keys do we have in the dictionary,we can use - print(len(student))\n",
    "\n",
    "print(len(student))\n",
    "\n"
   ]
  },
  {
   "cell_type": "code",
   "execution_count": 130,
   "metadata": {},
   "outputs": [
    {
     "name": "stdout",
     "output_type": "stream",
     "text": [
      "dict_values(['Charlie', ['IT', 'Math'], '969-6969'])\n"
     ]
    }
   ],
   "source": [
    "#if we want only the value,then we can use- print(student.values())\n",
    "\n",
    "print(student.values())"
   ]
  },
  {
   "cell_type": "code",
   "execution_count": 131,
   "metadata": {},
   "outputs": [
    {
     "name": "stdout",
     "output_type": "stream",
     "text": [
      "dict_keys(['name', 'courses', 'number'])\n"
     ]
    }
   ],
   "source": [
    "#if we want only the keys,then we can use- print(student.keys())\n",
    "\n",
    "print(student.keys())"
   ]
  },
  {
   "cell_type": "code",
   "execution_count": 133,
   "metadata": {},
   "outputs": [
    {
     "name": "stdout",
     "output_type": "stream",
     "text": [
      "dict_items([('name', 'Charlie'), ('courses', ['IT', 'Math']), ('number', '969-6969')])\n",
      "dict_keys(['name', 'courses', 'number'])\n"
     ]
    }
   ],
   "source": [
    "# if we want only the items,then we can use- print(student.items())\n",
    "\n",
    "print(student.items())\n",
    "#if we want only the keys,then we can use- print(student.values())\n",
    "print(student.keys())"
   ]
  },
  {
   "cell_type": "code",
   "execution_count": 148,
   "metadata": {},
   "outputs": [
    {
     "name": "stdout",
     "output_type": "stream",
     "text": [
      "tacos\n",
      "nachos\n",
      "pizza\n",
      "fries\n",
      "coke\n",
      "nuggets\n"
     ]
    }
   ],
   "source": [
    "#if we want the names of keys,then we use-\n",
    "\n",
    "#let us take an example of a Menu of a restaurant.If the chef wants the lists of items to get ready,he can use this function.\n",
    "\n",
    "menu={\"tacos\":\"$23\",\"nachos\":\"$20\",\"pizza\":\"$12\",\"fries\":\"$4\",\"coke\":\"$3\",\"nuggets\":\"$5\"}\n",
    "for key in menu:\n",
    "    print(key)"
   ]
  },
  {
   "cell_type": "code",
   "execution_count": 151,
   "metadata": {},
   "outputs": [
    {
     "name": "stdout",
     "output_type": "stream",
     "text": [
      "tacos $23\n",
      "nachos $20\n",
      "pizza $12\n",
      "fries $4\n",
      "coke $3\n",
      "nuggets $5\n"
     ]
    }
   ],
   "source": [
    "#let us take an example of a Menu of a restaurant.If the cashier wants to make a bill of the items,he can use this function.\n",
    "\n",
    "menu={\"tacos\":\"$23\",\"nachos\":\"$20\",\"pizza\":\"$12\",\"fries\":\"$4\",\"coke\":\"$3\",\"nuggets\":\"$5\"}\n",
    "for key,value in menu.items(): #we can use this function to print a bill or receipt for the customer.\n",
    "    print(key,value)"
   ]
  },
  {
   "cell_type": "code",
   "execution_count": null,
   "metadata": {},
   "outputs": [],
   "source": [
    "#References- #1.python.org, \n",
    "             #2.Book-Programming in Python 3."
   ]
  }
 ],
 "metadata": {
  "kernelspec": {
   "display_name": "Python 3",
   "language": "python",
   "name": "python3"
  },
  "language_info": {
   "codemirror_mode": {
    "name": "ipython",
    "version": 3
   },
   "file_extension": ".py",
   "mimetype": "text/x-python",
   "name": "python",
   "nbconvert_exporter": "python",
   "pygments_lexer": "ipython3",
   "version": "3.7.4"
  }
 },
 "nbformat": 4,
 "nbformat_minor": 2
}
