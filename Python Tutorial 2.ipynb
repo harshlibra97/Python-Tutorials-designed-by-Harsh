{
 "cells": [
  {
   "cell_type": "markdown",
   "metadata": {},
   "source": [
    "# What is PYTHON?(Just in case you didn't know)\n",
    "\n",
    "In technical terms Python is an interpreted,object-oriented high-level programming language.Python is relatively simple and easy to use since it uses a syntax that is easy to read by any programmer.Python reduces the cost of program maintainence and development because there is no language and experience barriers.Python runs on a interpreter system which means that as soon as the code is written we can get a quick prototype.Python uses a lot of modules and packages which makes it easier to reuse it on any platform.It makes it easier to import and export codes.The most recent version of python is Python 3 which we will be using in this tutorial.We can write Python in an Integrated Development Environment,such as Jupyter, Pycharm Netbeans or Eclipse which are useful in maintaining large files.\n",
    "\n",
    "## DICTIONARIES IN PYTHON.\n",
    "### What is a dictionary? \n",
    "A dictionary is a data type which is provided by Python.Dictionary is a collection of objects and is similar to lists.Lists elements are accessed via index number,whcih elements in lists are accessed via keys.Dictionaries are represented in \"key:value\" pairs seperated by a 'comma in curly brackets.Each key represents a value associated with the key.Dictionaries are unordered and mutable,which means that there is no specific order of the keys and the values of the keys can be changed.\n",
    "\n",
    "### CREATING A DICTIONARY.\n",
    "A dictionary can be created using curly brackets with key:value pairs separated by 'commas'\n",
    "\n",
    "For Example-\n",
    "Let us create a dictionary of a menu which contains dishes as keys and the prices as values associated with it.\n",
    "\n",
    "\n",
    "\n",
    "\n",
    "\n",
    "\n"
   ]
  },
  {
   "cell_type": "code",
   "execution_count": 3,
   "metadata": {},
   "outputs": [
    {
     "name": "stdout",
     "output_type": "stream",
     "text": [
      "\n",
      "Menu of Rutgers Dining\n",
      "{'Pizza': '$6', 'Tacos': '$4', 'Fries': '$8', 'Coke': '$3'}\n"
     ]
    }
   ],
   "source": [
    "Menu={\"Pizza\":\"$6\",\"Tacos\":\"$4\",\"Fries\":\"$8\",\"Coke\":\"$3\"}\n",
    "print(\"\\nMenu of Rutgers Dining\")\n",
    "print(Menu)"
   ]
  },
  {
   "cell_type": "markdown",
   "metadata": {},
   "source": [
    "We can aslo create a dictionary using the function dict().\n",
    "\n",
    "For Example-"
   ]
  },
  {
   "cell_type": "code",
   "execution_count": 6,
   "metadata": {},
   "outputs": [
    {
     "name": "stdout",
     "output_type": "stream",
     "text": [
      "\n",
      "Creating dicts using function dict()\n",
      "{'Atlanta': 'Atlanta Lions', 'New Jersey': 'Jersey Super Kings', 'New York': 'New York Challengers'}\n"
     ]
    }
   ],
   "source": [
    "My_teams=dict([(\"Atlanta\",\"Atlanta Lions\"),(\"New Jersey\",\"Jersey Super Kings\"),(\"New York\",\"New York Challengers\")])\n",
    "print(\"\\nCreating dicts using function dict()\")\n",
    "print(My_teams)"
   ]
  },
  {
   "cell_type": "markdown",
   "metadata": {},
   "source": [
    "NESTED DICTIONARY.\n",
    "We can also create a dictionary inside a dictionary.\n",
    "\n",
    "For Example-\n",
    "\n",
    "Let us make a nested dictionary of professors and subjects taught by the professors.\n",
    "\n"
   ]
  },
  {
   "cell_type": "code",
   "execution_count": 13,
   "metadata": {},
   "outputs": [
    {
     "name": "stdout",
     "output_type": "stream",
     "text": [
      "\n",
      "Courses taught by Professors\n",
      "{'Prof.Shafto P': 'Intro to DS', 'Prof.Jones': 'DADM', 'Prof.James': {1: 'BDM', 2: 'ABI', 3: 'BF'}}\n"
     ]
    }
   ],
   "source": [
    "Rutgers_profs={\"Prof.Shafto P\":\"Intro to DS\",\"Prof.Jones\":\"DADM\",\"Prof.James\":{1:\"BDM\",2:\"ABI\",3:\"BF\"}}\n",
    "print(\"\\nCourses taught by Professors\")\n",
    "print(Rutgers_profs)"
   ]
  },
  {
   "cell_type": "markdown",
   "metadata": {},
   "source": [
    "### ACCESSING ITEMS IN THE DICTIONARY.\n",
    "\n",
    "We can also access the items in the dictionary by reffering the key name from the dictionary.This can be used to access any value we want from the dictionary.\n"
   ]
  },
  {
   "cell_type": "markdown",
   "metadata": {},
   "source": [
    "For example-"
   ]
  },
  {
   "cell_type": "code",
   "execution_count": 184,
   "metadata": {},
   "outputs": [
    {
     "name": "stdout",
     "output_type": "stream",
     "text": [
      "\n",
      "Accesing an element using key\n",
      "hairwash\n"
     ]
    }
   ],
   "source": [
    "shopping_list={1:\"hairwash\",2:\"bodywash\",3:\"Eggs\",4:\"Shoes\",5:\"Milk\"}\n",
    "print(\"\\nAccesing an element using key\")\n",
    "print(shopping_list[1])"
   ]
  },
  {
   "cell_type": "markdown",
   "metadata": {},
   "source": [
    "We can also access an item using function get()\n",
    "\n",
    "For Example-"
   ]
  },
  {
   "cell_type": "code",
   "execution_count": 187,
   "metadata": {},
   "outputs": [
    {
     "data": {
      "text/plain": [
       "'hairwash'"
      ]
     },
     "execution_count": 187,
     "metadata": {},
     "output_type": "execute_result"
    }
   ],
   "source": [
    "shopping_list={1:\"hairwash\",2:\"bodywash\",3:\"Eggs\",4:\"Shoes\",5:\"Milk\"}\n",
    "shopping_list.get(1)"
   ]
  },
  {
   "cell_type": "markdown",
   "metadata": {},
   "source": [
    "### ADDING AN ITEM TO A DICTIONARY.\n",
    "\n",
    "We can add an item to a dictionary by assigning a new key and a new value.\n",
    "\n",
    "For Example- Let us add a new item in the shopping list."
   ]
  },
  {
   "cell_type": "code",
   "execution_count": 33,
   "metadata": {},
   "outputs": [
    {
     "name": "stdout",
     "output_type": "stream",
     "text": [
      "{1: 'hairwash', 2: 'bodywash', 3: 'Eggs', 4: 'Shoes', 5: 'Milk', 6: 'Banana'}\n"
     ]
    }
   ],
   "source": [
    "shopping_list={1:\"hairwash\",2:\"bodywash\",3:\"Eggs\",4:\"Shoes\",5:\"Milk\"}\n",
    "shopping_list[6]=\"Banana\"\n",
    "print(shopping_list)"
   ]
  },
  {
   "cell_type": "markdown",
   "metadata": {},
   "source": [
    "### UPDATING IN ITEM IN THE DICTIONARY.\n",
    "\n",
    "We can update an item in the dictionary we can add a new value to the existing key.\n",
    "\n",
    "For Example-"
   ]
  },
  {
   "cell_type": "code",
   "execution_count": 35,
   "metadata": {},
   "outputs": [
    {
     "name": "stdout",
     "output_type": "stream",
     "text": [
      "{1: 'bread', 2: 'bodywash', 3: 'Eggs', 4: 'Shoes', 5: 'Milk'}\n"
     ]
    }
   ],
   "source": [
    "shopping_list={1:\"hairwash\",2:\"bodywash\",3:\"Eggs\",4:\"Shoes\",5:\"Milk\"}\n",
    "shopping_list[1]=\"bread\"\n",
    "print(shopping_list)"
   ]
  },
  {
   "cell_type": "markdown",
   "metadata": {},
   "source": [
    "We can also update the dictionary using a function update()\n",
    "\n",
    "For Example-\n"
   ]
  },
  {
   "cell_type": "code",
   "execution_count": 43,
   "metadata": {},
   "outputs": [
    {
     "name": "stdout",
     "output_type": "stream",
     "text": [
      "{1: 'hairwash', 2: 'Belt', 3: 'Eggs', 4: 'Shoes', 5: 'Milk'}\n"
     ]
    }
   ],
   "source": [
    "shopping_list={1:\"hairwash\",2:\"bodywash\",3:\"Eggs\",4:\"Shoes\",5:\"Milk\"}\n",
    "shopping_list.update({2:\"Belt\"})\n",
    "print(shopping_list)"
   ]
  },
  {
   "cell_type": "markdown",
   "metadata": {},
   "source": [
    "### REMOVING AN ITEM FROM THE DICTIONARY.\n",
    "\n",
    "We can remove an item from the dictionary by using pop(),pop.item(),del functions.\n",
    "\n",
    "1.Using pop()\n",
    "\n",
    "For Example- "
   ]
  },
  {
   "cell_type": "code",
   "execution_count": 49,
   "metadata": {},
   "outputs": [
    {
     "name": "stdout",
     "output_type": "stream",
     "text": [
      "{'DADM': 'Monday', 'ABI': 'Tuesday', 'Intro to DS': 'Wednesday', 'BF': 'Thursday'}\n"
     ]
    }
   ],
   "source": [
    "my_subjects={\"DADM\":\"Monday\",\"ABI\":\"Tuesday\",\"BDM\":\"Wednesday\",\"Intro to DS\":\"Wednesday\",\"BF\":\"Thursday\"}\n",
    "my_subjects.pop(\"BDM\")\n",
    "print(my_subjects)"
   ]
  },
  {
   "cell_type": "markdown",
   "metadata": {},
   "source": [
    "2. Using del -we can use this as well to delete an item.\n",
    "\n",
    "For example-"
   ]
  },
  {
   "cell_type": "code",
   "execution_count": 66,
   "metadata": {},
   "outputs": [
    {
     "name": "stdout",
     "output_type": "stream",
     "text": [
      "{'DADM': 'Monday', 'Intro to DS': 'Wednesday', 'ABI': 'Tuesday'}\n"
     ]
    }
   ],
   "source": [
    "del my_subjects[\"BF\"]\n",
    "print(my_subjects)"
   ]
  },
  {
   "cell_type": "markdown",
   "metadata": {},
   "source": [
    "3. popitem()- this can be used to remove the last item from the dictionary python versions after 2.7.Before Python 2.7 this command would delete any random item.\n",
    "\n"
   ]
  },
  {
   "cell_type": "code",
   "execution_count": 3,
   "metadata": {},
   "outputs": [
    {
     "name": "stdout",
     "output_type": "stream",
     "text": [
      "{'DADM': 'Monday', 'ABI': 'Tuesday', 'BDM': 'Wednesday', 'Intro to DS': 'Wednesday'}\n"
     ]
    }
   ],
   "source": [
    "my_subjects={\"DADM\":\"Monday\",\"ABI\":\"Tuesday\",\"BDM\":\"Wednesday\",\"Intro to DS\":\"Wednesday\",\"BF\":\"Thursday\"}\n",
    "my_subjects.popitem()\n",
    "print(my_subjects)\n"
   ]
  },
  {
   "cell_type": "markdown",
   "metadata": {},
   "source": [
    "CLEARING THE DICTIONARY.\n",
    "\n",
    "We can also clear the whole dictionary by using a keyword clear()\n",
    "\n",
    "For Example-"
   ]
  },
  {
   "cell_type": "code",
   "execution_count": 4,
   "metadata": {},
   "outputs": [
    {
     "name": "stdout",
     "output_type": "stream",
     "text": [
      "{}\n"
     ]
    }
   ],
   "source": [
    "my_subjects.clear()\n",
    "print(my_subjects)"
   ]
  },
  {
   "cell_type": "markdown",
   "metadata": {},
   "source": [
    "### LENGTH OF THE DICTIONARY.\n",
    "\n",
    "There is also a way to find the length of the key:value pairs in the dictionary.\n",
    "We can find the value of key:value pairs in the dictionary by using keyword len()\n",
    "\n",
    "For Example-\n"
   ]
  },
  {
   "cell_type": "code",
   "execution_count": 6,
   "metadata": {},
   "outputs": [
    {
     "name": "stdout",
     "output_type": "stream",
     "text": [
      "5\n"
     ]
    }
   ],
   "source": [
    "phone_rank={1:\"Samsung\",2:\"Apple\",3:\"Huawei\",4:\"Oppo\",5:\"Vivo\"}\n",
    "print(len(phone_rank))"
   ]
  },
  {
   "cell_type": "markdown",
   "metadata": {},
   "source": [
    "### LOOP IN THE DICTIONARY.\n",
    "\n",
    "We can use the for loop to list the keys and value in the dictionary.We can aslo display the keys and the values in the form of a list.\n",
    "\n",
    "1.Printing all key names in the list-\n",
    "\n",
    "For Example-\n"
   ]
  },
  {
   "cell_type": "code",
   "execution_count": 13,
   "metadata": {},
   "outputs": [
    {
     "name": "stdout",
     "output_type": "stream",
     "text": [
      "1\n",
      "2\n",
      "3\n",
      "4\n",
      "5\n"
     ]
    }
   ],
   "source": [
    "phone_rank={1:\"Samsung\",2:\"Apple\",3:\"Huawei\",4:\"Oppo\",5:\"Vivo\"}\n",
    "for x in phone_rank.keys():\n",
    "    print(x)"
   ]
  },
  {
   "cell_type": "markdown",
   "metadata": {},
   "source": [
    "2.Printing all values names in the list- \n",
    "\n",
    "For Example-"
   ]
  },
  {
   "cell_type": "code",
   "execution_count": 15,
   "metadata": {},
   "outputs": [
    {
     "name": "stdout",
     "output_type": "stream",
     "text": [
      "Samsung\n",
      "Apple\n",
      "Huawei\n",
      "Oppo\n",
      "Vivo\n"
     ]
    }
   ],
   "source": [
    "for x in phone_rank.values():\n",
    "    print(x)"
   ]
  },
  {
   "cell_type": "markdown",
   "metadata": {},
   "source": [
    "3.Printing all key:value pairs in the list- \n",
    "\n",
    "For Example-"
   ]
  },
  {
   "cell_type": "code",
   "execution_count": 19,
   "metadata": {},
   "outputs": [
    {
     "name": "stdout",
     "output_type": "stream",
     "text": [
      "1 Samsung\n",
      "2 Apple\n",
      "3 Huawei\n",
      "4 Oppo\n",
      "5 Vivo\n"
     ]
    }
   ],
   "source": [
    "for x,y in phone_rank.items():\n",
    "    print(x,y)"
   ]
  },
  {
   "cell_type": "markdown",
   "metadata": {},
   "source": [
    "### CHECK IF THE KEY EXISTS.\n",
    "\n",
    "We can use this to check whether the key which we are looking for rexits or not by using the \"if\" statement.\n",
    "\n",
    "For Example-\n",
    "\n"
   ]
  },
  {
   "cell_type": "code",
   "execution_count": 30,
   "metadata": {},
   "outputs": [
    {
     "name": "stdout",
     "output_type": "stream",
     "text": [
      "yes, 5 in dictionary phone_rank\n"
     ]
    }
   ],
   "source": [
    "\n",
    "if 5 in phone_rank:\n",
    "    print(\"yes, 5 in dictionary phone_rank\")"
   ]
  },
  {
   "cell_type": "markdown",
   "metadata": {},
   "source": [
    "### COPY OF THE DICTIONARY.\n",
    "\n",
    "This can be used to produce a copy of dictionary.\n",
    "We will use the keyword copy().\n",
    "\n",
    "For Example-"
   ]
  },
  {
   "cell_type": "code",
   "execution_count": 32,
   "metadata": {},
   "outputs": [
    {
     "name": "stdout",
     "output_type": "stream",
     "text": [
      "{1: 'Samsung', 2: 'Apple', 3: 'Huawei', 4: 'Oppo', 5: 'Vivo'}\n"
     ]
    }
   ],
   "source": [
    "phone_rank={1:\"Samsung\",2:\"Apple\",3:\"Huawei\",4:\"Oppo\",5:\"Vivo\"}\n",
    "mydict= phone_rank.copy()\n",
    "print(mydict)"
   ]
  },
  {
   "cell_type": "markdown",
   "metadata": {},
   "source": [
    "# FUNCTIONS IN PYTHON.\n",
    "## What is a function?\n",
    "\n",
    "A function is a convinient way to write the code.It uses a set of statements that takes some input parameters.Function is a block of code which can be called when it is needed.Instead of writing the code again and again for different inputs it can be called when needed.The idea is to save time and make it more readabable.There are some built-in functions like print(), but we can aslo define our own function.Functions can recieve and argument and can also return value to the caller.\n",
    "\n",
    "### CREATING A FUNCTION.\n",
    "\n",
    "Functions in python are defined by using keyword \"def\" followed by the name of the function.\n"
   ]
  },
  {
   "cell_type": "code",
   "execution_count": 61,
   "metadata": {},
   "outputs": [],
   "source": [
    "def my_welcome():\n",
    "    print(\"Hello Welcome to the World of Data Science\")"
   ]
  },
  {
   "cell_type": "markdown",
   "metadata": {},
   "source": [
    "### CALLING A FUNCTION.\n",
    "\n",
    "This is used to call the function that is defined."
   ]
  },
  {
   "cell_type": "code",
   "execution_count": 62,
   "metadata": {},
   "outputs": [
    {
     "name": "stdout",
     "output_type": "stream",
     "text": [
      "Hello Welcome to the World of Data Science\n"
     ]
    }
   ],
   "source": [
    "my_welcome()"
   ]
  },
  {
   "cell_type": "markdown",
   "metadata": {},
   "source": [
    "### PASSING PARAMETERS TO THE FUNCTIONS.\n",
    "\n",
    "Information can also be passed to the function by adding the parameter after the function name.\n",
    "\n",
    "For example- When we pass the name in the function greet() we get the name as an input parameter."
   ]
  },
  {
   "cell_type": "code",
   "execution_count": 17,
   "metadata": {},
   "outputs": [],
   "source": [
    "def greet(name):\n",
    "    print(\"Hello \"+ name +\" , Good morning.\")"
   ]
  },
  {
   "cell_type": "code",
   "execution_count": 19,
   "metadata": {},
   "outputs": [
    {
     "name": "stdout",
     "output_type": "stream",
     "text": [
      "Hello Harry , Good morning.\n"
     ]
    }
   ],
   "source": [
    "greet('Harry')"
   ]
  },
  {
   "cell_type": "markdown",
   "metadata": {},
   "source": [
    "### RETURN VALUES.\n",
    "\n",
    "Such function returns the value.Inpython if no value is passed it will reurn a by default 'none'\n",
    "For example-"
   ]
  },
  {
   "cell_type": "code",
   "execution_count": 24,
   "metadata": {},
   "outputs": [
    {
     "name": "stdout",
     "output_type": "stream",
     "text": [
      "3\n"
     ]
    }
   ],
   "source": [
    "def add(a,b):\n",
    "    return a + b\n",
    "print(add(1,2))"
   ]
  },
  {
   "cell_type": "markdown",
   "metadata": {},
   "source": [
    "### KEYWORD ARGUMENTS.\n",
    "\n",
    "Keyword arguments are used to make the code more clear and readable.\n",
    "\n",
    "For Example-\n"
   ]
  },
  {
   "cell_type": "code",
   "execution_count": 31,
   "metadata": {},
   "outputs": [
    {
     "name": "stdout",
     "output_type": "stream",
     "text": [
      "3\n"
     ]
    }
   ],
   "source": [
    "def increment(add,by):\n",
    "    return add + by\n",
    "print(increment(add=1,by=2))"
   ]
  },
  {
   "cell_type": "markdown",
   "metadata": {},
   "source": [
    "### DEFAULT ARGUMENTS\n",
    "\n",
    "In default arguments we can specify a parameter in the fucntion but only after the required paramters.So all the optional parameters shall be written only after the required parameters.\n",
    "\n",
    "For Example- Here the default parameter is 'by=4'"
   ]
  },
  {
   "cell_type": "code",
   "execution_count": 35,
   "metadata": {},
   "outputs": [
    {
     "name": "stdout",
     "output_type": "stream",
     "text": [
      "7\n"
     ]
    }
   ],
   "source": [
    "def increment(add,by=4): \n",
    "    return add + by\n",
    "print(increment(add=3))"
   ]
  },
  {
   "cell_type": "markdown",
   "metadata": {},
   "source": [
    "### ARBITARY ARGUMENTS.\n",
    "\n",
    "Such type arguments are used when we dont know how many arguments we are going to pass in our function.\n",
    "In such case we add * before the parameter name in the function definition.\n",
    "\n",
    "For Example-\n"
   ]
  },
  {
   "cell_type": "code",
   "execution_count": 50,
   "metadata": {},
   "outputs": [
    {
     "name": "stdout",
     "output_type": "stream",
     "text": [
      "240\n"
     ]
    }
   ],
   "source": [
    "def multiply(*numbers):\n",
    "    total=1\n",
    "    for number in numbers:\n",
    "        total= total*number\n",
    "    return total\n",
    "\n",
    "\n",
    "print(multiply(2,10,3,4))"
   ]
  },
  {
   "cell_type": "markdown",
   "metadata": {},
   "source": [
    "### **ARGUMENTS.\n",
    "\n",
    "Such type of a function name is used to define a function which contains multiple keyword arguments.\n",
    "\n",
    "For Example-"
   ]
  },
  {
   "cell_type": "code",
   "execution_count": 84,
   "metadata": {},
   "outputs": [
    {
     "name": "stdout",
     "output_type": "stream",
     "text": [
      "{'id': 1, 'name': 'Harry', 'gender': 'male'}\n"
     ]
    }
   ],
   "source": [
    "def details(**username):\n",
    "    print(username)\n",
    "    \n",
    "details(id=1,name='Harry',gender=\"male\")"
   ]
  },
  {
   "cell_type": "markdown",
   "metadata": {},
   "source": [
    "Exercise for funtions- Print Fizz if input is divisible by 3,Buzz if input is divisible by 5,FizzBuzz if input is divisible by 3,5. And print input of none of the above.\n",
    "        "
   ]
  },
  {
   "cell_type": "code",
   "execution_count": 86,
   "metadata": {},
   "outputs": [
    {
     "name": "stdout",
     "output_type": "stream",
     "text": [
      "FizzBuzz\n"
     ]
    }
   ],
   "source": [
    "def fizz_buzz(input):\n",
    "    if input % 3==0 and input % 5==0:\n",
    "        return \"FizzBuzz\"\n",
    "    if input % 3 ==0 :\n",
    "        return \"Fizz\"\n",
    "    if input % 5== 0:\n",
    "        return \"Buzz\"\n",
    "    return input\n",
    "print(fizz_buzz(15))  "
   ]
  },
  {
   "cell_type": "markdown",
   "metadata": {},
   "source": [
    "# CLASSES IN PYTHON.\n",
    "\n",
    "## What is a class?\n",
    "\n",
    "Python is an object oriented progrmming language is objects with its methods and properties.Class is like a blueprint of an object.Objects are included in the class.Objects consists of attributes.When class is defined only description of object is defined and not the memory allocation.\n",
    "\n",
    "\n"
   ]
  },
  {
   "cell_type": "markdown",
   "metadata": {},
   "source": [
    "### CREATING A CLASS and OBJECT.\n",
    "\n",
    "We can create a class using class keyword and name by keeping first letter of the class name in  upper case.And if we have multiple words then we capitalize the first letter of every word.\n",
    "\n",
    "For Example-\n"
   ]
  },
  {
   "cell_type": "code",
   "execution_count": 168,
   "metadata": {},
   "outputs": [],
   "source": [
    "class Point:\n",
    "    def move(self):\n",
    "        print(\"move\")"
   ]
  },
  {
   "cell_type": "markdown",
   "metadata": {},
   "source": [
    "Now,let us create and define an object in the class including methods.\n",
    "\n",
    "For Example-"
   ]
  },
  {
   "cell_type": "code",
   "execution_count": 171,
   "metadata": {},
   "outputs": [
    {
     "name": "stdout",
     "output_type": "stream",
     "text": [
      "draw\n"
     ]
    }
   ],
   "source": [
    "class Point:\n",
    "    def move(self):\n",
    "        print(\"move\")\n",
    "    \n",
    "    def draw(self):\n",
    "        print(\"draw\")\n",
    "        \n",
    "point1 = Point()\n",
    "point1.draw()"
   ]
  },
  {
   "cell_type": "markdown",
   "metadata": {},
   "source": [
    "Now we can add some attributes in the object.\n",
    "\n",
    "For Example-"
   ]
  },
  {
   "cell_type": "code",
   "execution_count": 177,
   "metadata": {},
   "outputs": [
    {
     "name": "stdout",
     "output_type": "stream",
     "text": [
      "5\n",
      "10\n",
      "draw\n"
     ]
    }
   ],
   "source": [
    "class Point:\n",
    "    def move(self):\n",
    "        print(\"move\")\n",
    "    \n",
    "    def draw(self):\n",
    "        print(\"draw\")\n",
    "        \n",
    "point1 = Point()\n",
    "point1.x =5\n",
    "point1.y =10\n",
    "print(point1.x)\n",
    "print(point1.y)\n",
    "point1.draw()"
   ]
  },
  {
   "cell_type": "markdown",
   "metadata": {},
   "source": [
    "### CONSTRUCTORS.\n",
    "\n",
    "Constructor is a function that gets called while the time of creating an object.We use the keyword _init_(self) to initialize and construct the object.\n",
    "\n",
    "For Example-"
   ]
  },
  {
   "cell_type": "code",
   "execution_count": 200,
   "metadata": {},
   "outputs": [
    {
     "name": "stdout",
     "output_type": "stream",
     "text": [
      "5\n",
      "10\n"
     ]
    }
   ],
   "source": [
    "class Point:\n",
    "    def __init__(self,x,y):    #this is the __init__() constructor of an object.\n",
    "        self.x = x\n",
    "        self.y = y\n",
    "    def move(self):\n",
    "        print(\"move\")\n",
    "    \n",
    "    def draw(self):\n",
    "        print(\"draw\")\n",
    "        \n",
    "point = Point(5,10)\n",
    "print(point.x)\n",
    "print(point.y)\n"
   ]
  },
  {
   "cell_type": "markdown",
   "metadata": {},
   "source": [
    "Each object is a different instance of a class.\n",
    "\n",
    "Excercise- Creating a class Person with attributes like name and greet() method.\n"
   ]
  },
  {
   "cell_type": "code",
   "execution_count": 211,
   "metadata": {},
   "outputs": [
    {
     "name": "stdout",
     "output_type": "stream",
     "text": [
      "Hi, i am Harry Potter!\n"
     ]
    }
   ],
   "source": [
    "class Person:\n",
    "    def __init__(self,name):\n",
    "        self.name = name\n",
    "    def greet(self):\n",
    "        print(f\"Hi, i am {self.name}!\")\n",
    "\n",
    "\n",
    "harry = Person(\"Harry Potter\")\n",
    "harry.greet()\n",
    "\n",
    "        "
   ]
  },
  {
   "cell_type": "markdown",
   "metadata": {},
   "source": [
    "### INHERITANCE.\n",
    "\n",
    "Inheritance is a method of reusing the code.It is used to inherit the properties and method from another class.\n",
    "Parent Class is the class which is inherited from and Child Class is the class which inherits from the other class.\n",
    "\n",
    "For Example- Let us create a Class Student with object and method and inherit the same object for the Class Alumni.\n"
   ]
  },
  {
   "cell_type": "code",
   "execution_count": 225,
   "metadata": {},
   "outputs": [
    {
     "name": "stdout",
     "output_type": "stream",
     "text": [
      "The name of the student is Harry and GPA is 3.9 for the year 2002.\n",
      "The name of the student is Ron and GPA is 2.0 for the year 2000.\n"
     ]
    }
   ],
   "source": [
    "class Student:\n",
    "    def __init__(self,name,gpa,year):\n",
    "        self.name= name\n",
    "        self.gpa= gpa\n",
    "        self.year= year\n",
    "    def intro(self):    \n",
    "        print(f\"The name of the student is {self.name} and GPA is {self.gpa} for the year {self.year}.\") \n",
    "        \n",
    "        \n",
    "\n",
    "class Alumni(Student): #We are using a pass as we do not want to add any method to this class.\n",
    "    pass\n",
    "    \n",
    "    \n",
    "    \n",
    "    \n",
    "student1 = Student(\"Harry\",3.9,2002)    \n",
    "student1.intro()\n",
    "\n",
    "alumni1= Alumni(\"Ron\",2.0,2000) #Here we are using the class Alumni as inheritance of the class Student\n",
    "alumni1.intro()\n",
    "            "
   ]
  },
  {
   "cell_type": "markdown",
   "metadata": {},
   "source": [
    "### THE super() FUNCTION.\n",
    "\n",
    "Python has a super() function which uses the inheritance of all the objects and methods of the parent class.\n",
    "\n",
    "For Example-"
   ]
  },
  {
   "cell_type": "code",
   "execution_count": 230,
   "metadata": {},
   "outputs": [
    {
     "name": "stdout",
     "output_type": "stream",
     "text": [
      "The name of the student is Jhonny and GPA is 3.8 for the year 1998.\n"
     ]
    }
   ],
   "source": [
    "class Student:\n",
    "    def __init__(self,name,gpa,year):\n",
    "        self.name= name\n",
    "        self.gpa= gpa\n",
    "        self.year= year\n",
    "    def intro(self):    \n",
    "        print(f\"The name of the student is {self.name} and GPA is {self.gpa} for the year {self.year}.\") \n",
    "        \n",
    "        \n",
    "\n",
    "class Alumni(Student):\n",
    "    def __init__(self,name,gpa,year):\n",
    "        super().__init__(name,gpa,year) #we use the function super() here to copy all the methods from the parent class.\n",
    "        \n",
    "\n",
    "\n",
    "alumni1= Alumni(\"Jhonny\",3.8,1998) \n",
    "alumni1.intro()\n",
    "            "
   ]
  },
  {
   "cell_type": "markdown",
   "metadata": {},
   "source": [
    "### ADDING A PARAMETER TO A CHILD CLASS.\n",
    "\n",
    "We can aslo add a parameter to the child class without changing the objects in the parent class.\n",
    "\n",
    "For Example- Let us add \"job status\" to the class Alumni."
   ]
  },
  {
   "cell_type": "code",
   "execution_count": 252,
   "metadata": {},
   "outputs": [
    {
     "name": "stdout",
     "output_type": "stream",
     "text": [
      "Employed\n"
     ]
    }
   ],
   "source": [
    "class Student:\n",
    "    def __init__(self,name,gpa,year):\n",
    "        self.name= name\n",
    "        self.gpa= gpa\n",
    "        self.year= year\n",
    "    def intro(self):    \n",
    "        print(f\"The name of the student is {self.name} and GPA is {self.gpa} for the year {self.year}.\") \n",
    "        \n",
    "        \n",
    "\n",
    "class Alumni(Student):\n",
    "    def __init__(self,name,gpa,year,jobstatus):\n",
    "        super().__init__(name,gpa,year)\n",
    "        self.jobstatus = jobstatus              #we are adding a new parameter to the child class.\n",
    "    \n",
    "\n",
    "\n",
    "alumni1 = Alumni(\"Ron\",2.0,2000,\"Employed\") #Here we are using the class Alumni as inheritance of the class Student\n",
    "print(alumni1.jobstatus)\n",
    "            "
   ]
  },
  {
   "cell_type": "markdown",
   "metadata": {},
   "source": [
    "### ADDING METHODS TO THE CHILD CLASS.\n",
    "\n",
    "We can also add method to the specific child class.\n",
    "\n",
    "For Example-\n"
   ]
  },
  {
   "cell_type": "code",
   "execution_count": 259,
   "metadata": {},
   "outputs": [
    {
     "name": "stdout",
     "output_type": "stream",
     "text": [
      "Congratulations Ron for getting Employed.\n"
     ]
    }
   ],
   "source": [
    "class Student:\n",
    "    def __init__(self,name,gpa,year):\n",
    "        self.name= name\n",
    "        self.gpa= gpa\n",
    "        self.year= year\n",
    "    def intro(self):    \n",
    "        print(f\"The name of the student is {self.name} and GPA is {self.gpa} for the year {self.year}.\") \n",
    "        \n",
    "        \n",
    "\n",
    "class Alumni(Student): \n",
    "    def __init__(self,name,gpa,year,jobstatus):\n",
    "        super().__init__(name,gpa,year)\n",
    "        self.jobstatus = jobstatus \n",
    "        \n",
    "    def greet(self):\n",
    "        print(f\"Congratulations {self.name} for getting {self.jobstatus}.\") #here we are adding a new method to child class.\n",
    "    \n",
    "\n",
    "\n",
    "alumni1 = Alumni(\"Ron\",2.0,2000,\"Employed\") \n",
    "alumni1.greet()"
   ]
  },
  {
   "cell_type": "markdown",
   "metadata": {},
   "source": [
    "### Citations.\n",
    "\n",
    "https://www.python.org \n",
    "\n",
    "https://realpython.com\n",
    "\n",
    "https://www.youtube.com"
   ]
  },
  {
   "cell_type": "code",
   "execution_count": null,
   "metadata": {},
   "outputs": [],
   "source": []
  }
 ],
 "metadata": {
  "kernelspec": {
   "display_name": "Python 3",
   "language": "python",
   "name": "python3"
  },
  "language_info": {
   "codemirror_mode": {
    "name": "ipython",
    "version": 3
   },
   "file_extension": ".py",
   "mimetype": "text/x-python",
   "name": "python",
   "nbconvert_exporter": "python",
   "pygments_lexer": "ipython3",
   "version": "3.7.4"
  }
 },
 "nbformat": 4,
 "nbformat_minor": 2
}
